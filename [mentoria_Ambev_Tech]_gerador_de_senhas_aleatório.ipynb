{
  "nbformat": 4,
  "nbformat_minor": 0,
  "metadata": {
    "colab": {
      "provenance": [],
      "authorship_tag": "ABX9TyNThN+FcKw6nES1iv2pr/lY",
      "include_colab_link": true
    },
    "kernelspec": {
      "name": "python3",
      "display_name": "Python 3"
    },
    "language_info": {
      "name": "python"
    }
  },
  "cells": [
    {
      "cell_type": "markdown",
      "metadata": {
        "id": "view-in-github",
        "colab_type": "text"
      },
      "source": [
        "<a href=\"https://colab.research.google.com/github/nthambire/notion_widgets/blob/master/%5Bmentoria_Ambev_Tech%5D_gerador_de_senhas_aleat%C3%B3rio.ipynb\" target=\"_parent\"><img src=\"https://colab.research.google.com/assets/colab-badge.svg\" alt=\"Open In Colab\"/></a>"
      ]
    },
    {
      "cell_type": "markdown",
      "source": [
        "*meta*: desenvolver um simulador onde sçao inseridos o número de pilotos, número de voltas em uma pista, que já tem muma distância total, e a partir de números aleatórios para cada volta de cada piloto e no final  mostra quem finalizou em primeiro\n"
      ],
      "metadata": {
        "id": "qA1OIbYu-s1G"
      }
    },
    {
      "cell_type": "markdown",
      "source": [
        "# Gerador de senha aleatório"
      ],
      "metadata": {
        "id": "T131iF9dEx4I"
      }
    },
    {
      "cell_type": "code",
      "source": [
        "# quantos caracteres\n",
        "#numerico ou alfanumerico\n",
        "#letras maiusculas\n",
        "#caractere especial\n",
        "#numeros\n",
        "\n",
        "#montar lista: A - Z, 0 - 9"
      ],
      "metadata": {
        "id": "VkvfaFm8Eyg4"
      },
      "execution_count": null,
      "outputs": []
    },
    {
      "cell_type": "code",
      "source": [
        "import random\n",
        "\n",
        "#tipo_senha = input(\"Para senha alfanumérica digite 's', caso queira uma senha numérica digite 'n': \")\n",
        "  #comentário:usar em for para definir tipo de senha entre s e n\n",
        "qtd_caracteres = input(\"Quantos caracteres serão necessários?: \")\n",
        "\n",
        "range_num = ['0','1','2','3','4','5','6','7','8','9']\n",
        "\n",
        "#range = range_num if tipo_senha == \"n\" else \"abcd\" #if ternário: feito em uma única linha\n",
        "\n",
        "senha = \"\"\n",
        "while len (senha) < int(qtd_caracteres): #comentário: Len - verifica o tamanho da string\n",
        "    senha = senha + random.choice(range_num) #comentário: random.choice escolhe um valor dentro da lista\n",
        "\n",
        "print(senha)"
      ],
      "metadata": {
        "colab": {
          "base_uri": "https://localhost:8080/"
        },
        "id": "1USD1FgwFrzV",
        "outputId": "1de2e638-0bb1-42d1-8690-7c47c267bff4"
      },
      "execution_count": null,
      "outputs": [
        {
          "output_type": "stream",
          "name": "stdout",
          "text": [
            "Quantos caracteres serão necessários?: 6\n",
            "157011\n"
          ]
        }
      ]
    },
    {
      "cell_type": "code",
      "source": [
        "import random\n",
        "import string\n",
        "\n",
        "qtd_caracteres = input(\"Quantos caracteres serão necessários?: \") #total da senha\n",
        "qtd_letras_mai = input(\"Quantas letras maiúsculas serão necessárias?: \")\n",
        "\n",
        "range_num = (string.printable[0:10])\n",
        "range_min = list(string.printable[10:36])\n",
        "range_mai = list(string.printable[36:62])\n",
        "range_carac = list(string.printable[62:68])\n",
        "\n",
        "senha = \"\"\n",
        "while len (senha) < int(qtd_caracteres): #comentário: Len - verifica o tamanho da string\n",
        "    senha = senha + random.choice(int(range_num)) #comentário: random.choice escolhe um valor dentro da lista\n",
        "\n",
        "print(senha)"
      ],
      "metadata": {
        "id": "wqERAH7KtIfE"
      },
      "execution_count": null,
      "outputs": []
    },
    {
      "cell_type": "code",
      "source": [
        "import string\n",
        "a = list(string.ascii_lowercase)\n",
        "b = list(string.ascii_uppercase)\n",
        "c = list(string.printable)\n",
        "\n",
        "print (c[0:10])\n",
        "print (c[10:36])\n",
        "print (c[36:62])\n",
        "print (c[62:68])\n"
      ],
      "metadata": {
        "colab": {
          "base_uri": "https://localhost:8080/"
        },
        "id": "XGO9OYAKIrBi",
        "outputId": "6241b12c-3eed-4a77-ee18-7ed47f3563fa"
      },
      "execution_count": null,
      "outputs": [
        {
          "output_type": "stream",
          "name": "stdout",
          "text": [
            "['0', '1', '2', '3', '4', '5', '6', '7', '8', '9']\n",
            "['a', 'b', 'c', 'd', 'e', 'f', 'g', 'h', 'i', 'j', 'k', 'l', 'm', 'n', 'o', 'p', 'q', 'r', 's', 't', 'u', 'v', 'w', 'x', 'y', 'z']\n",
            "['A', 'B', 'C', 'D', 'E', 'F', 'G', 'H', 'I', 'J', 'K', 'L', 'M', 'N', 'O', 'P', 'Q', 'R', 'S', 'T', 'U', 'V', 'W', 'X', 'Y', 'Z']\n",
            "['!', '\"', '#', '$', '%', '&']\n"
          ]
        }
      ]
    },
    {
      "cell_type": "code",
      "source": [
        "import string\n",
        "d = (string.ascii_lowercase)\n",
        "print(d)"
      ],
      "metadata": {
        "colab": {
          "base_uri": "https://localhost:8080/"
        },
        "id": "DRXZFpolYnEy",
        "outputId": "cf972056-8ac0-48f8-b21c-56ae79cc0d45"
      },
      "execution_count": 11,
      "outputs": [
        {
          "output_type": "stream",
          "name": "stdout",
          "text": [
            "abcdefghijklmnopqrstuvwxyz\n"
          ]
        }
      ]
    }
  ]
}